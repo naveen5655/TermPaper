{
  "cells": [
    {
      "cell_type": "code",
      "execution_count": null,
      "id": "138b07ab",
      "metadata": {
        "_cell_guid": "b1076dfc-b9ad-4769-8c92-a6c4dae69d19",
        "_uuid": "8f2839f25d086af736a60e9eeb907d3b93b6e0e5",
        "execution": {
          "iopub.execute_input": "2022-12-02T12:30:29.652388Z",
          "iopub.status.busy": "2022-12-02T12:30:29.651733Z",
          "iopub.status.idle": "2022-12-02T12:30:32.478220Z",
          "shell.execute_reply": "2022-12-02T12:30:32.476315Z"
        },
        "papermill": {
          "duration": 2.842353,
          "end_time": "2022-12-02T12:30:32.482409",
          "exception": false,
          "start_time": "2022-12-02T12:30:29.640056",
          "status": "completed"
        },
        "tags": [],
        "id": "138b07ab"
      },
      "outputs": [],
      "source": [
        "import pandas as pd\n",
        "import numpy as np\n",
        "import seaborn as sns\n",
        "import matplotlib.pyplot as plt\n",
        "import plotly.express as px\n",
        "import plotly.io as pio\n",
        "import scipy.stats as st\n",
        "import math\n",
        "from scipy.stats import norm, skew\n",
        "from collections import Counter\n",
        "%matplotlib inline"
      ]
    },
    {
      "cell_type": "code",
      "execution_count": null,
      "id": "6f770a06",
      "metadata": {
        "execution": {
          "iopub.execute_input": "2022-12-02T12:30:32.501360Z",
          "iopub.status.busy": "2022-12-02T12:30:32.500835Z",
          "iopub.status.idle": "2022-12-02T12:30:37.628675Z",
          "shell.execute_reply": "2022-12-02T12:30:37.627420Z"
        },
        "papermill": {
          "duration": 5.141227,
          "end_time": "2022-12-02T12:30:37.631980",
          "exception": false,
          "start_time": "2022-12-02T12:30:32.490753",
          "status": "completed"
        },
        "tags": [],
        "id": "6f770a06"
      },
      "outputs": [],
      "source": [
        "data= pd.read_csv('file.csv')"
      ]
    },
    {
      "cell_type": "code",
      "execution_count": null,
      "id": "cf6fb148",
      "metadata": {
        "execution": {
          "iopub.execute_input": "2022-12-02T12:30:37.650067Z",
          "iopub.status.busy": "2022-12-02T12:30:37.649188Z",
          "iopub.status.idle": "2022-12-02T12:30:37.683404Z",
          "shell.execute_reply": "2022-12-02T12:30:37.681617Z"
        },
        "papermill": {
          "duration": 0.049372,
          "end_time": "2022-12-02T12:30:37.689142",
          "exception": false,
          "start_time": "2022-12-02T12:30:37.639770",
          "status": "completed"
        },
        "tags": [],
        "id": "cf6fb148",
        "outputId": "70b4d9d1-3250-4f25-92c9-f8c6924b7233"
      },
      "outputs": [
        {
          "data": {
            "text/html": [
              "<div>\n",
              "<style scoped>\n",
              "    .dataframe tbody tr th:only-of-type {\n",
              "        vertical-align: middle;\n",
              "    }\n",
              "\n",
              "    .dataframe tbody tr th {\n",
              "        vertical-align: top;\n",
              "    }\n",
              "\n",
              "    .dataframe thead th {\n",
              "        text-align: right;\n",
              "    }\n",
              "</style>\n",
              "<table border=\"1\" class=\"dataframe\">\n",
              "  <thead>\n",
              "    <tr style=\"text-align: right;\">\n",
              "      <th></th>\n",
              "      <th>hash</th>\n",
              "      <th>GetProcAddress</th>\n",
              "      <th>ExitProcess</th>\n",
              "      <th>WriteFile</th>\n",
              "      <th>GetLastError</th>\n",
              "      <th>CloseHandle</th>\n",
              "      <th>FreeLibrary</th>\n",
              "      <th>Sleep</th>\n",
              "      <th>GetStdHandle</th>\n",
              "      <th>MultiByteToWideChar</th>\n",
              "      <th>...</th>\n",
              "      <th>bind</th>\n",
              "      <th>RegEnumKeyExA</th>\n",
              "      <th>WinHttpOpen</th>\n",
              "      <th>_controlfp</th>\n",
              "      <th>WinExec</th>\n",
              "      <th>GetSecurityDescriptorDacl</th>\n",
              "      <th>FindFirstFreeAce</th>\n",
              "      <th>GetTimeFormatW</th>\n",
              "      <th>LookupAccountSidW</th>\n",
              "      <th>malware</th>\n",
              "    </tr>\n",
              "  </thead>\n",
              "  <tbody>\n",
              "    <tr>\n",
              "      <th>0</th>\n",
              "      <td>071e8c3f8922e186e57548cd4c703a5d</td>\n",
              "      <td>1</td>\n",
              "      <td>1</td>\n",
              "      <td>1</td>\n",
              "      <td>1</td>\n",
              "      <td>1</td>\n",
              "      <td>1</td>\n",
              "      <td>1</td>\n",
              "      <td>1</td>\n",
              "      <td>1</td>\n",
              "      <td>...</td>\n",
              "      <td>0</td>\n",
              "      <td>0</td>\n",
              "      <td>0</td>\n",
              "      <td>0</td>\n",
              "      <td>0</td>\n",
              "      <td>0</td>\n",
              "      <td>0</td>\n",
              "      <td>0</td>\n",
              "      <td>0</td>\n",
              "      <td>1</td>\n",
              "    </tr>\n",
              "    <tr>\n",
              "      <th>1</th>\n",
              "      <td>33f8e6d08a6aae939f25a8e0d63dd523</td>\n",
              "      <td>1</td>\n",
              "      <td>1</td>\n",
              "      <td>1</td>\n",
              "      <td>1</td>\n",
              "      <td>1</td>\n",
              "      <td>1</td>\n",
              "      <td>1</td>\n",
              "      <td>1</td>\n",
              "      <td>1</td>\n",
              "      <td>...</td>\n",
              "      <td>0</td>\n",
              "      <td>0</td>\n",
              "      <td>0</td>\n",
              "      <td>0</td>\n",
              "      <td>0</td>\n",
              "      <td>0</td>\n",
              "      <td>0</td>\n",
              "      <td>0</td>\n",
              "      <td>0</td>\n",
              "      <td>1</td>\n",
              "    </tr>\n",
              "    <tr>\n",
              "      <th>2</th>\n",
              "      <td>b68abd064e975e1c6d5f25e748663076</td>\n",
              "      <td>1</td>\n",
              "      <td>1</td>\n",
              "      <td>1</td>\n",
              "      <td>1</td>\n",
              "      <td>1</td>\n",
              "      <td>0</td>\n",
              "      <td>1</td>\n",
              "      <td>0</td>\n",
              "      <td>1</td>\n",
              "      <td>...</td>\n",
              "      <td>0</td>\n",
              "      <td>1</td>\n",
              "      <td>0</td>\n",
              "      <td>0</td>\n",
              "      <td>0</td>\n",
              "      <td>0</td>\n",
              "      <td>0</td>\n",
              "      <td>0</td>\n",
              "      <td>0</td>\n",
              "      <td>1</td>\n",
              "    </tr>\n",
              "    <tr>\n",
              "      <th>3</th>\n",
              "      <td>72049be7bd30ea61297ea624ae198067</td>\n",
              "      <td>1</td>\n",
              "      <td>1</td>\n",
              "      <td>1</td>\n",
              "      <td>1</td>\n",
              "      <td>0</td>\n",
              "      <td>0</td>\n",
              "      <td>1</td>\n",
              "      <td>1</td>\n",
              "      <td>1</td>\n",
              "      <td>...</td>\n",
              "      <td>0</td>\n",
              "      <td>0</td>\n",
              "      <td>0</td>\n",
              "      <td>0</td>\n",
              "      <td>0</td>\n",
              "      <td>0</td>\n",
              "      <td>0</td>\n",
              "      <td>0</td>\n",
              "      <td>0</td>\n",
              "      <td>1</td>\n",
              "    </tr>\n",
              "    <tr>\n",
              "      <th>4</th>\n",
              "      <td>c9b3700a77facf29172f32df6bc77f48</td>\n",
              "      <td>1</td>\n",
              "      <td>1</td>\n",
              "      <td>1</td>\n",
              "      <td>1</td>\n",
              "      <td>1</td>\n",
              "      <td>1</td>\n",
              "      <td>1</td>\n",
              "      <td>1</td>\n",
              "      <td>1</td>\n",
              "      <td>...</td>\n",
              "      <td>0</td>\n",
              "      <td>0</td>\n",
              "      <td>0</td>\n",
              "      <td>0</td>\n",
              "      <td>0</td>\n",
              "      <td>0</td>\n",
              "      <td>0</td>\n",
              "      <td>0</td>\n",
              "      <td>0</td>\n",
              "      <td>1</td>\n",
              "    </tr>\n",
              "  </tbody>\n",
              "</table>\n",
              "<p>5 rows × 1002 columns</p>\n",
              "</div>"
            ],
            "text/plain": [
              "                               hash  GetProcAddress  ExitProcess  WriteFile  \\\n",
              "0  071e8c3f8922e186e57548cd4c703a5d               1            1          1   \n",
              "1  33f8e6d08a6aae939f25a8e0d63dd523               1            1          1   \n",
              "2  b68abd064e975e1c6d5f25e748663076               1            1          1   \n",
              "3  72049be7bd30ea61297ea624ae198067               1            1          1   \n",
              "4  c9b3700a77facf29172f32df6bc77f48               1            1          1   \n",
              "\n",
              "   GetLastError  CloseHandle  FreeLibrary  Sleep  GetStdHandle  \\\n",
              "0             1            1            1      1             1   \n",
              "1             1            1            1      1             1   \n",
              "2             1            1            0      1             0   \n",
              "3             1            0            0      1             1   \n",
              "4             1            1            1      1             1   \n",
              "\n",
              "   MultiByteToWideChar  ...  bind  RegEnumKeyExA  WinHttpOpen  _controlfp  \\\n",
              "0                    1  ...     0              0            0           0   \n",
              "1                    1  ...     0              0            0           0   \n",
              "2                    1  ...     0              1            0           0   \n",
              "3                    1  ...     0              0            0           0   \n",
              "4                    1  ...     0              0            0           0   \n",
              "\n",
              "   WinExec  GetSecurityDescriptorDacl  FindFirstFreeAce  GetTimeFormatW  \\\n",
              "0        0                          0                 0               0   \n",
              "1        0                          0                 0               0   \n",
              "2        0                          0                 0               0   \n",
              "3        0                          0                 0               0   \n",
              "4        0                          0                 0               0   \n",
              "\n",
              "   LookupAccountSidW  malware  \n",
              "0                  0        1  \n",
              "1                  0        1  \n",
              "2                  0        1  \n",
              "3                  0        1  \n",
              "4                  0        1  \n",
              "\n",
              "[5 rows x 1002 columns]"
            ]
          },
          "execution_count": 10,
          "metadata": {},
          "output_type": "execute_result"
        }
      ],
      "source": [
        "data.head()"
      ]
    },
    {
      "cell_type": "code",
      "execution_count": null,
      "id": "875053d1",
      "metadata": {
        "execution": {
          "iopub.execute_input": "2022-12-02T12:30:37.709501Z",
          "iopub.status.busy": "2022-12-02T12:30:37.708564Z",
          "iopub.status.idle": "2022-12-02T12:30:37.785510Z",
          "shell.execute_reply": "2022-12-02T12:30:37.784060Z"
        },
        "papermill": {
          "duration": 0.09107,
          "end_time": "2022-12-02T12:30:37.788370",
          "exception": false,
          "start_time": "2022-12-02T12:30:37.697300",
          "status": "completed"
        },
        "tags": [],
        "id": "875053d1",
        "outputId": "25ebda41-bdf8-4c87-feca-059381c2abd8"
      },
      "outputs": [
        {
          "data": {
            "text/plain": [
              "0"
            ]
          },
          "execution_count": 11,
          "metadata": {},
          "output_type": "execute_result"
        }
      ],
      "source": [
        "data.isnull().sum().sum()"
      ]
    },
    {
      "cell_type": "markdown",
      "id": "9764f3a0",
      "metadata": {
        "papermill": {
          "duration": 0.007475,
          "end_time": "2022-12-02T12:30:37.803754",
          "exception": false,
          "start_time": "2022-12-02T12:30:37.796279",
          "status": "completed"
        },
        "tags": [],
        "id": "9764f3a0"
      },
      "source": [
        "# <p style=\"background-color:#E6E6FA;font-family:newtimeroman;color:#141414;font-size:150%;text-align:center;border-radius:10px 10px;\">MAX Positive & negative correlation</p>"
      ]
    },
    {
      "cell_type": "code",
      "execution_count": null,
      "id": "431290e6",
      "metadata": {
        "execution": {
          "iopub.execute_input": "2022-12-02T12:30:37.825303Z",
          "iopub.status.busy": "2022-12-02T12:30:37.823945Z",
          "iopub.status.idle": "2022-12-02T12:30:39.089050Z",
          "shell.execute_reply": "2022-12-02T12:30:39.087951Z"
        },
        "papermill": {
          "duration": 1.280446,
          "end_time": "2022-12-02T12:30:39.092343",
          "exception": false,
          "start_time": "2022-12-02T12:30:37.811897",
          "status": "completed"
        },
        "tags": [],
        "id": "431290e6",
        "outputId": "93fe5cf5-0438-4567-cd7d-c219f33d4a81"
      },
      "outputs": [
        {
          "name": "stdout",
          "output_type": "stream",
          "text": [
            "The column which has the maximum positive correlation with the malware case is: RtlUnwind\n"
          ]
        }
      ],
      "source": [
        "max = 0\n",
        "x=0\n",
        "for i in data.select_dtypes(include=np.number).drop(['malware'],axis=1).columns:\n",
        "    if (data[i].corr(data['malware'])) > max:\n",
        "        max = data[i].corr(data['malware'])\n",
        "        x = i\n",
        "print(\"The column which has the maximum positive correlation with the malware case is: {0}\" .\n",
        "      format(x))"
      ]
    },
    {
      "cell_type": "code",
      "execution_count": null,
      "id": "deec5e90",
      "metadata": {
        "execution": {
          "iopub.execute_input": "2022-12-02T12:30:39.116507Z",
          "iopub.status.busy": "2022-12-02T12:30:39.116022Z",
          "iopub.status.idle": "2022-12-02T12:30:40.134003Z",
          "shell.execute_reply": "2022-12-02T12:30:40.132373Z"
        },
        "papermill": {
          "duration": 1.031378,
          "end_time": "2022-12-02T12:30:40.136952",
          "exception": false,
          "start_time": "2022-12-02T12:30:39.105574",
          "status": "completed"
        },
        "tags": [],
        "id": "deec5e90",
        "outputId": "1c38d7f0-a213-4205-9cd2-887c6a28f5d8"
      },
      "outputs": [
        {
          "name": "stdout",
          "output_type": "stream",
          "text": [
            "The column which has the maximum negative correlation with the malware case is: _cexit\n"
          ]
        }
      ],
      "source": [
        "min = 1\n",
        "x=0\n",
        "for i in data.select_dtypes(include=np.number).drop(['malware'],axis=1).columns:\n",
        "    if (data[i].corr(data['malware'])) < min:\n",
        "        min = data[i].corr(data['malware'])\n",
        "        x = i\n",
        "print(\"The column which has the maximum negative correlation with the malware case is: {0}\" .\n",
        "      format(x))"
      ]
    },
    {
      "cell_type": "markdown",
      "id": "6fd391e8",
      "metadata": {
        "papermill": {
          "duration": 0.00762,
          "end_time": "2022-12-02T12:30:40.152593",
          "exception": false,
          "start_time": "2022-12-02T12:30:40.144973",
          "status": "completed"
        },
        "tags": [],
        "id": "6fd391e8"
      },
      "source": [
        "# <p style=\"background-color:#E6E6FA;font-family:newtimeroman;color:#141414;font-size:150%;text-align:center;border-radius:10px 10px;\">Rank of most columns that affect in malware case </p>"
      ]
    },
    {
      "cell_type": "code",
      "execution_count": null,
      "id": "13171291",
      "metadata": {
        "execution": {
          "iopub.execute_input": "2022-12-02T12:30:40.170769Z",
          "iopub.status.busy": "2022-12-02T12:30:40.170279Z",
          "iopub.status.idle": "2022-12-02T12:32:48.680589Z",
          "shell.execute_reply": "2022-12-02T12:32:48.678997Z"
        },
        "papermill": {
          "duration": 128.523955,
          "end_time": "2022-12-02T12:32:48.684355",
          "exception": false,
          "start_time": "2022-12-02T12:30:40.160400",
          "status": "completed"
        },
        "tags": [],
        "id": "13171291"
      },
      "outputs": [],
      "source": [
        "corr = data.corr()\n",
        "rank = corr.sort_values(by=['malware'],ascending=False).iloc[0].sort_values(ascending=False)"
      ]
    },
    {
      "cell_type": "code",
      "execution_count": null,
      "id": "3813ec67",
      "metadata": {
        "execution": {
          "iopub.execute_input": "2022-12-02T12:32:48.703113Z",
          "iopub.status.busy": "2022-12-02T12:32:48.702587Z",
          "iopub.status.idle": "2022-12-02T12:32:48.716759Z",
          "shell.execute_reply": "2022-12-02T12:32:48.715462Z"
        },
        "papermill": {
          "duration": 0.026516,
          "end_time": "2022-12-02T12:32:48.719472",
          "exception": false,
          "start_time": "2022-12-02T12:32:48.692956",
          "status": "completed"
        },
        "tags": [],
        "id": "3813ec67",
        "outputId": "c8db129f-0930-44ee-c727-e3d1964dbbd8"
      },
      "outputs": [
        {
          "data": {
            "text/html": [
              "<div>\n",
              "<style scoped>\n",
              "    .dataframe tbody tr th:only-of-type {\n",
              "        vertical-align: middle;\n",
              "    }\n",
              "\n",
              "    .dataframe tbody tr th {\n",
              "        vertical-align: top;\n",
              "    }\n",
              "\n",
              "    .dataframe thead th {\n",
              "        text-align: right;\n",
              "    }\n",
              "</style>\n",
              "<table border=\"1\" class=\"dataframe\">\n",
              "  <thead>\n",
              "    <tr style=\"text-align: right;\">\n",
              "      <th></th>\n",
              "      <th>malware</th>\n",
              "    </tr>\n",
              "  </thead>\n",
              "  <tbody>\n",
              "    <tr>\n",
              "      <th>malware</th>\n",
              "      <td>1.000000</td>\n",
              "    </tr>\n",
              "    <tr>\n",
              "      <th>_exit</th>\n",
              "      <td>-0.408869</td>\n",
              "    </tr>\n",
              "    <tr>\n",
              "      <th>_initterm</th>\n",
              "      <td>-0.421305</td>\n",
              "    </tr>\n",
              "    <tr>\n",
              "      <th>__setusermatherr</th>\n",
              "      <td>-0.422460</td>\n",
              "    </tr>\n",
              "    <tr>\n",
              "      <th>__set_app_type</th>\n",
              "      <td>-0.438921</td>\n",
              "    </tr>\n",
              "    <tr>\n",
              "      <th>exit</th>\n",
              "      <td>-0.458680</td>\n",
              "    </tr>\n",
              "    <tr>\n",
              "      <th>_cexit</th>\n",
              "      <td>-0.541799</td>\n",
              "    </tr>\n",
              "  </tbody>\n",
              "</table>\n",
              "</div>"
            ],
            "text/plain": [
              "                   malware\n",
              "malware           1.000000\n",
              "_exit            -0.408869\n",
              "_initterm        -0.421305\n",
              "__setusermatherr -0.422460\n",
              "__set_app_type   -0.438921\n",
              "exit             -0.458680\n",
              "_cexit           -0.541799"
            ]
          },
          "execution_count": 15,
          "metadata": {},
          "output_type": "execute_result"
        }
      ],
      "source": [
        "rankk = pd.DataFrame(rank)\n",
        "corrr = pd.DataFrame(corr)\n",
        "rankk[(rankk['malware'] > 0.4) | (rankk['malware'] < -0.4)]"
      ]
    },
    {
      "cell_type": "markdown",
      "id": "93818e49",
      "metadata": {
        "papermill": {
          "duration": 0.008105,
          "end_time": "2022-12-02T12:32:48.735840",
          "exception": false,
          "start_time": "2022-12-02T12:32:48.727735",
          "status": "completed"
        },
        "tags": [],
        "id": "93818e49"
      },
      "source": [
        "# <p style=\"background-color:#E6E6FA;font-family:newtimeroman;color:#141414;font-size:150%;text-align:center;border-radius:10px 10px;\">Detailed Relation between those columns & malware</p>"
      ]
    },
    {
      "cell_type": "code",
      "execution_count": null,
      "id": "6badb283",
      "metadata": {
        "execution": {
          "iopub.execute_input": "2022-12-02T12:32:48.754111Z",
          "iopub.status.busy": "2022-12-02T12:32:48.753650Z",
          "iopub.status.idle": "2022-12-02T12:32:49.010556Z",
          "shell.execute_reply": "2022-12-02T12:32:49.009255Z"
        },
        "papermill": {
          "duration": 0.269957,
          "end_time": "2022-12-02T12:32:49.013820",
          "exception": false,
          "start_time": "2022-12-02T12:32:48.743863",
          "status": "completed"
        },
        "tags": [],
        "id": "6badb283",
        "outputId": "e786a1de-8d15-4e8c-f9a9-c30ebb6d91d4"
      },
      "outputs": [
        {
          "data": {
            "text/html": [
              "<div>\n",
              "<style scoped>\n",
              "    .dataframe tbody tr th:only-of-type {\n",
              "        vertical-align: middle;\n",
              "    }\n",
              "\n",
              "    .dataframe tbody tr th {\n",
              "        vertical-align: top;\n",
              "    }\n",
              "\n",
              "    .dataframe thead th {\n",
              "        text-align: right;\n",
              "    }\n",
              "</style>\n",
              "<table border=\"1\" class=\"dataframe\">\n",
              "  <thead>\n",
              "    <tr style=\"text-align: right;\">\n",
              "      <th></th>\n",
              "      <th>Benign</th>\n",
              "      <th>malicious</th>\n",
              "    </tr>\n",
              "  </thead>\n",
              "  <tbody>\n",
              "    <tr>\n",
              "      <th>0</th>\n",
              "      <td>1045</td>\n",
              "      <td>45228</td>\n",
              "    </tr>\n",
              "    <tr>\n",
              "      <th>1</th>\n",
              "      <td>884</td>\n",
              "      <td>423</td>\n",
              "    </tr>\n",
              "  </tbody>\n",
              "</table>\n",
              "</div>"
            ],
            "text/plain": [
              "   Benign  malicious\n",
              "0    1045      45228\n",
              "1     884        423"
            ]
          },
          "execution_count": 16,
          "metadata": {},
          "output_type": "execute_result"
        }
      ],
      "source": [
        "x=data[data['malware']==0]['_cexit'].value_counts()\n",
        "y=data[data['malware']==1]['_cexit'].value_counts()\n",
        "pd.concat([x, y], axis=1, keys=['Benign', 'malicious'])"
      ]
    },
    {
      "cell_type": "code",
      "execution_count": null,
      "id": "493fdd03",
      "metadata": {
        "execution": {
          "iopub.execute_input": "2022-12-02T12:32:49.032644Z",
          "iopub.status.busy": "2022-12-02T12:32:49.032133Z",
          "iopub.status.idle": "2022-12-02T12:32:49.289544Z",
          "shell.execute_reply": "2022-12-02T12:32:49.288004Z"
        },
        "papermill": {
          "duration": 0.270324,
          "end_time": "2022-12-02T12:32:49.292515",
          "exception": false,
          "start_time": "2022-12-02T12:32:49.022191",
          "status": "completed"
        },
        "tags": [],
        "id": "493fdd03",
        "outputId": "ab56a0b6-0646-41d6-b2ab-b3cd1cd136a7"
      },
      "outputs": [
        {
          "data": {
            "text/html": [
              "<div>\n",
              "<style scoped>\n",
              "    .dataframe tbody tr th:only-of-type {\n",
              "        vertical-align: middle;\n",
              "    }\n",
              "\n",
              "    .dataframe tbody tr th {\n",
              "        vertical-align: top;\n",
              "    }\n",
              "\n",
              "    .dataframe thead th {\n",
              "        text-align: right;\n",
              "    }\n",
              "</style>\n",
              "<table border=\"1\" class=\"dataframe\">\n",
              "  <thead>\n",
              "    <tr style=\"text-align: right;\">\n",
              "      <th></th>\n",
              "      <th>Benign</th>\n",
              "      <th>malicious</th>\n",
              "    </tr>\n",
              "  </thead>\n",
              "  <tbody>\n",
              "    <tr>\n",
              "      <th>0</th>\n",
              "      <td>1045</td>\n",
              "      <td>44774</td>\n",
              "    </tr>\n",
              "    <tr>\n",
              "      <th>1</th>\n",
              "      <td>884</td>\n",
              "      <td>877</td>\n",
              "    </tr>\n",
              "  </tbody>\n",
              "</table>\n",
              "</div>"
            ],
            "text/plain": [
              "   Benign  malicious\n",
              "0    1045      44774\n",
              "1     884        877"
            ]
          },
          "execution_count": 17,
          "metadata": {},
          "output_type": "execute_result"
        }
      ],
      "source": [
        "x=data[data['malware']==0]['exit'].value_counts()\n",
        "y=data[data['malware']==1]['exit'].value_counts()\n",
        "pd.concat([x, y], axis=1, keys=['Benign', 'malicious'])"
      ]
    },
    {
      "cell_type": "code",
      "execution_count": null,
      "id": "93a556e6",
      "metadata": {
        "execution": {
          "iopub.execute_input": "2022-12-02T12:32:49.312439Z",
          "iopub.status.busy": "2022-12-02T12:32:49.311943Z",
          "iopub.status.idle": "2022-12-02T12:32:50.729410Z",
          "shell.execute_reply": "2022-12-02T12:32:50.728087Z"
        },
        "papermill": {
          "duration": 1.430733,
          "end_time": "2022-12-02T12:32:50.732028",
          "exception": false,
          "start_time": "2022-12-02T12:32:49.301295",
          "status": "completed"
        },
        "tags": [],
        "id": "93a556e6",
        "outputId": "3cbbfc5e-b18f-430b-e855-ac59e0ea53b9"
      },
      "outputs": [
        {
          "data": {
            "image/png": "[encoded data removed]",
            "text/plain": [
              "<Figure size 720x360 with 1 Axes>"
            ]
          },
          "metadata": {
            "needs_background": "light"
          },
          "output_type": "display_data"
        },
        {
          "data": {
            "image/png": "[encoded data removed]",
            "text/plain": [
              "<Figure size 720x360 with 1 Axes>"
            ]
          },
          "metadata": {
            "needs_background": "light"
          },
          "output_type": "display_data"
        },
        {
          "data": {
            "image/png": "[encoded data removed]",
            "text/plain": [
              "<Figure size 720x360 with 1 Axes>"
            ]
          },
          "metadata": {
            "needs_background": "light"
          },
          "output_type": "display_data"
        },
        {
          "data": {
            "image/png": "[encoded data removed]",
            "text/plain": [
              "<Figure size 720x360 with 1 Axes>"
            ]
          },
          "metadata": {
            "needs_background": "light"
          },
          "output_type": "display_data"
        },
        {
          "data": {
            "image/png": "[encoded data removed]",
            "text/plain": [
              "<Figure size 720x360 with 1 Axes>"
            ]
          },
          "metadata": {
            "needs_background": "light"
          },
          "output_type": "display_data"
        },
        {
          "data": {
            "image/png": "[encoded data removed]",
            "text/plain": [
              "<Figure size 720x360 with 1 Axes>"
            ]
          },
          "metadata": {
            "needs_background": "light"
          },
          "output_type": "display_data"
        }
      ],
      "source": [
        "plt.figure(figsize = (10,5)) \n",
        "sns.countplot(x=\"_exit\",hue = \"malware\", data=data, palette=\"husl\");\n",
        "plt.figure(figsize = (10,5)) \n",
        "sns.countplot(x=\"_initterm\",hue = \"malware\", data=data, palette=\"husl\");\n",
        "plt.figure(figsize = (10,5)) \n",
        "sns.countplot(x=\"__setusermatherr\",hue = \"malware\", data=data, palette=\"husl\");\n",
        "plt.figure(figsize = (10,5)) \n",
        "sns.countplot(x=\"__set_app_type\",hue = \"malware\", data=data, palette=\"husl\");\n",
        "plt.figure(figsize = (10,5)) \n",
        "sns.countplot(x=\"exit\",hue = \"malware\", data=data, palette=\"husl\");\n",
        "plt.figure(figsize = (10,5)) \n",
        "sns.countplot(x=\"_cexit\",hue = \"malware\", data=data, palette=\"husl\");"
      ]
    },
    {
      "cell_type": "markdown",
      "id": "f1135008",
      "metadata": {
        "papermill": {
          "duration": 0.0094,
          "end_time": "2022-12-02T12:32:50.751467",
          "exception": false,
          "start_time": "2022-12-02T12:32:50.742067",
          "status": "completed"
        },
        "tags": [],
        "id": "f1135008"
      },
      "source": [
        "# <p style=\"background-color:#E6E6FA;font-family:newtimeroman;color:#141414;font-size:150%;text-align:center;border-radius:10px 10px;\">Splitting dataset</p>"
      ]
    },
    {
      "cell_type": "code",
      "execution_count": null,
      "id": "19b067c8",
      "metadata": {
        "execution": {
          "iopub.execute_input": "2022-12-02T12:32:50.772830Z",
          "iopub.status.busy": "2022-12-02T12:32:50.772363Z",
          "iopub.status.idle": "2022-12-02T12:32:51.533721Z",
          "shell.execute_reply": "2022-12-02T12:32:51.532320Z"
        },
        "papermill": {
          "duration": 0.775667,
          "end_time": "2022-12-02T12:32:51.536738",
          "exception": false,
          "start_time": "2022-12-02T12:32:50.761071",
          "status": "completed"
        },
        "tags": [],
        "id": "19b067c8"
      },
      "outputs": [],
      "source": [
        "from sklearn.model_selection import train_test_split\n",
        "X = data.drop(['hash','malware'], axis=1)\n",
        "y = data['malware']\n",
        "X_train, X_test, y_train, y_test = train_test_split(X, y, test_size=0.30)"
      ]
    },
    {
      "cell_type": "code",
      "execution_count": null,
      "id": "83607749",
      "metadata": {
        "execution": {
          "iopub.execute_input": "2022-12-02T12:32:51.558916Z",
          "iopub.status.busy": "2022-12-02T12:32:51.558386Z",
          "iopub.status.idle": "2022-12-02T12:32:51.565472Z",
          "shell.execute_reply": "2022-12-02T12:32:51.564101Z"
        },
        "papermill": {
          "duration": 0.021484,
          "end_time": "2022-12-02T12:32:51.568207",
          "exception": false,
          "start_time": "2022-12-02T12:32:51.546723",
          "status": "completed"
        },
        "tags": [],
        "id": "83607749"
      },
      "outputs": [],
      "source": [
        "from sklearn.model_selection import train_test_split\n",
        "from sklearn import preprocessing\n",
        "from sklearn.metrics import accuracy_score\n",
        "from sklearn.metrics import average_precision_score\n",
        "from sklearn.metrics import precision_recall_curve\n",
        "from sklearn.metrics import classification_report\n",
        "from sklearn.metrics import confusion_matrix"
      ]
    },
    {
      "cell_type": "markdown",
      "id": "80961248",
      "metadata": {
        "papermill": {
          "duration": 0.009549,
          "end_time": "2022-12-02T12:32:51.588583",
          "exception": false,
          "start_time": "2022-12-02T12:32:51.579034",
          "status": "completed"
        },
        "tags": [],
        "id": "80961248"
      },
      "source": [
        "# <p style=\"background-color:#E6E6FA;font-family:newtimeroman;color:#141414;font-size:150%;text-align:center;border-radius:10px 10px;\">NORMAL Random Forests</p>"
      ]
    },
    {
      "cell_type": "code",
      "execution_count": null,
      "id": "9d59e588",
      "metadata": {
        "execution": {
          "iopub.execute_input": "2022-12-02T12:32:51.612564Z",
          "iopub.status.busy": "2022-12-02T12:32:51.611130Z",
          "iopub.status.idle": "2022-12-02T12:32:59.087306Z",
          "shell.execute_reply": "2022-12-02T12:32:59.085841Z"
        },
        "papermill": {
          "duration": 7.490895,
          "end_time": "2022-12-02T12:32:59.090351",
          "exception": false,
          "start_time": "2022-12-02T12:32:51.599456",
          "status": "completed"
        },
        "tags": [],
        "id": "9d59e588",
        "outputId": "d73234b4-aa69-479d-ad1d-fb975ac8b399"
      },
      "outputs": [
        {
          "data": {
            "text/html": [
              "<style>#sk-container-id-1 {color: black;background-color: white;}#sk-container-id-1 pre{padding: 0;}#sk-container-id-1 div.sk-toggleable {background-color: white;}#sk-container-id-1 label.sk-toggleable__label {cursor: pointer;display: block;width: 100%;margin-bottom: 0;padding: 0.3em;box-sizing: border-box;text-align: center;}#sk-container-id-1 label.sk-toggleable__label-arrow:before {content: \"▸\";float: left;margin-right: 0.25em;color: #696969;}#sk-container-id-1 label.sk-toggleable__label-arrow:hover:before {color: black;}#sk-container-id-1 div.sk-estimator:hover label.sk-toggleable__label-arrow:before {color: black;}#sk-container-id-1 div.sk-toggleable__content {max-height: 0;max-width: 0;overflow: hidden;text-align: left;background-color: #f0f8ff;}#sk-container-id-1 div.sk-toggleable__content pre {margin: 0.2em;color: black;border-radius: 0.25em;background-color: #f0f8ff;}#sk-container-id-1 input.sk-toggleable__control:checked~div.sk-toggleable__content {max-height: 200px;max-width: 100%;overflow: auto;}#sk-container-id-1 input.sk-toggleable__control:checked~label.sk-toggleable__label-arrow:before {content: \"▾\";}#sk-container-id-1 div.sk-estimator input.sk-toggleable__control:checked~label.sk-toggleable__label {background-color: #d4ebff;}#sk-container-id-1 div.sk-label input.sk-toggleable__control:checked~label.sk-toggleable__label {background-color: #d4ebff;}#sk-container-id-1 input.sk-hidden--visually {border: 0;clip: rect(1px 1px 1px 1px);clip: rect(1px, 1px, 1px, 1px);height: 1px;margin: -1px;overflow: hidden;padding: 0;position: absolute;width: 1px;}#sk-container-id-1 div.sk-estimator {font-family: monospace;background-color: #f0f8ff;border: 1px dotted black;border-radius: 0.25em;box-sizing: border-box;margin-bottom: 0.5em;}#sk-container-id-1 div.sk-estimator:hover {background-color: #d4ebff;}#sk-container-id-1 div.sk-parallel-item::after {content: \"\";width: 100%;border-bottom: 1px solid gray;flex-grow: 1;}#sk-container-id-1 div.sk-label:hover label.sk-toggleable__label {background-color: #d4ebff;}#sk-container-id-1 div.sk-serial::before {content: \"\";position: absolute;border-left: 1px solid gray;box-sizing: border-box;top: 0;bottom: 0;left: 50%;z-index: 0;}#sk-container-id-1 div.sk-serial {display: flex;flex-direction: column;align-items: center;background-color: white;padding-right: 0.2em;padding-left: 0.2em;position: relative;}#sk-container-id-1 div.sk-item {position: relative;z-index: 1;}#sk-container-id-1 div.sk-parallel {display: flex;align-items: stretch;justify-content: center;background-color: white;position: relative;}#sk-container-id-1 div.sk-item::before, #sk-container-id-1 div.sk-parallel-item::before {content: \"\";position: absolute;border-left: 1px solid gray;box-sizing: border-box;top: 0;bottom: 0;left: 50%;z-index: -1;}#sk-container-id-1 div.sk-parallel-item {display: flex;flex-direction: column;z-index: 1;position: relative;background-color: white;}#sk-container-id-1 div.sk-parallel-item:first-child::after {align-self: flex-end;width: 50%;}#sk-container-id-1 div.sk-parallel-item:last-child::after {align-self: flex-start;width: 50%;}#sk-container-id-1 div.sk-parallel-item:only-child::after {width: 0;}#sk-container-id-1 div.sk-dashed-wrapped {border: 1px dashed gray;margin: 0 0.4em 0.5em 0.4em;box-sizing: border-box;padding-bottom: 0.4em;background-color: white;}#sk-container-id-1 div.sk-label label {font-family: monospace;font-weight: bold;display: inline-block;line-height: 1.2em;}#sk-container-id-1 div.sk-label-container {text-align: center;}#sk-container-id-1 div.sk-container {/* jupyter's `normalize.less` sets `[hidden] { display: none; }` but bootstrap.min.css set `[hidden] { display: none !important; }` so we also need the `!important` here to be able to override the default hidden behavior on the sphinx rendered scikit-learn.org. See: https://github.com/scikit-learn/scikit-learn/issues/21755 */display: inline-block !important;position: relative;}#sk-container-id-1 div.sk-text-repr-fallback {display: none;}</style><div id=\"sk-container-id-1\" class=\"sk-top-container\"><div class=\"sk-text-repr-fallback\"><pre>RandomForestClassifier(n_estimators=50, random_state=3)</pre><b>In a Jupyter environment, please rerun this cell to show the HTML representation or trust the notebook. <br />On GitHub, the HTML representation is unable to render, please try loading this page with nbviewer.org.</b></div><div class=\"sk-container\" hidden><div class=\"sk-item\"><div class=\"sk-estimator sk-toggleable\"><input class=\"sk-toggleable__control sk-hidden--visually\" id=\"sk-estimator-id-1\" type=\"checkbox\" checked><label for=\"sk-estimator-id-1\" class=\"sk-toggleable__label sk-toggleable__label-arrow\">RandomForestClassifier</label><div class=\"sk-toggleable__content\"><pre>RandomForestClassifier(n_estimators=50, random_state=3)</pre></div></div></div></div></div>"
            ],
            "text/plain": [
              "RandomForestClassifier(n_estimators=50, random_state=3)"
            ]
          },
          "execution_count": 21,
          "metadata": {},
          "output_type": "execute_result"
        }
      ],
      "source": [
        "from sklearn.ensemble import RandomForestClassifier\n",
        "rfc = RandomForestClassifier(n_estimators=50, random_state=3)\n",
        "rfc.fit(X_train, y_train)"
      ]
    },
    {
      "cell_type": "code",
      "execution_count": null,
      "id": "f4059a3a",
      "metadata": {
        "execution": {
          "iopub.execute_input": "2022-12-02T12:32:59.114070Z",
          "iopub.status.busy": "2022-12-02T12:32:59.112991Z",
          "iopub.status.idle": "2022-12-02T12:32:59.395564Z",
          "shell.execute_reply": "2022-12-02T12:32:59.394229Z"
        },
        "papermill": {
          "duration": 0.298907,
          "end_time": "2022-12-02T12:32:59.399337",
          "exception": false,
          "start_time": "2022-12-02T12:32:59.100430",
          "status": "completed"
        },
        "tags": [],
        "id": "f4059a3a",
        "outputId": "3bcef6e7-cbbe-4671-808b-ae85380ae6e4"
      },
      "outputs": [
        {
          "name": "stdout",
          "output_type": "stream",
          "text": [
            "[[  384   204]\n",
            " [   56 13630]]\n",
            "              precision    recall  f1-score   support\n",
            "\n",
            "           0       0.87      0.65      0.75       588\n",
            "           1       0.99      1.00      0.99     13686\n",
            "\n",
            "    accuracy                           0.98     14274\n",
            "   macro avg       0.93      0.82      0.87     14274\n",
            "weighted avg       0.98      0.98      0.98     14274\n",
            "\n"
          ]
        }
      ],
      "source": [
        "rfc_pred = rfc.predict(X_test)\n",
        "print(confusion_matrix(y_test,rfc_pred))\n",
        "print(classification_report(y_test,rfc_pred))"
      ]
    },
    {
      "cell_type": "code",
      "execution_count": null,
      "id": "d0edfc14",
      "metadata": {
        "execution": {
          "iopub.execute_input": "2022-12-02T12:32:59.424775Z",
          "iopub.status.busy": "2022-12-02T12:32:59.424294Z",
          "iopub.status.idle": "2022-12-02T12:32:59.973509Z",
          "shell.execute_reply": "2022-12-02T12:32:59.971996Z"
        },
        "papermill": {
          "duration": 0.565524,
          "end_time": "2022-12-02T12:32:59.976499",
          "exception": false,
          "start_time": "2022-12-02T12:32:59.410975",
          "status": "completed"
        },
        "tags": [],
        "id": "d0edfc14",
        "outputId": "2f9a82dd-7039-4295-854f-7399b8b56d69"
      },
      "outputs": [
        {
          "name": "stdout",
          "output_type": "stream",
          "text": [
            "Train Accuracy: 0.9907824416021137\n",
            "Test Accuracy: 0.9817850637522769\n"
          ]
        }
      ],
      "source": [
        "print(\"Train Accuracy:\",rfc.score(X_train, y_train) )#accuracy\n",
        "print( \"Test Accuracy:\", accuracy_score(y_test, rfc_pred, normalize=True))"
      ]
    },
    {
      "cell_type": "markdown",
      "id": "4a966a94",
      "metadata": {
        "papermill": {
          "duration": 0.010116,
          "end_time": "2022-12-02T12:32:59.996709",
          "exception": false,
          "start_time": "2022-12-02T12:32:59.986593",
          "status": "completed"
        },
        "tags": [],
        "id": "4a966a94"
      },
      "source": [
        "# <p style=\"background-color:#E6E6FA;font-family:newtimeroman;color:#141414;font-size:150%;text-align:center;border-radius:10px 10px;\">Random Forests with only important features</p>"
      ]
    },
    {
      "cell_type": "code",
      "execution_count": null,
      "id": "4fcabb73",
      "metadata": {
        "execution": {
          "iopub.execute_input": "2022-12-02T12:33:00.021426Z",
          "iopub.status.busy": "2022-12-02T12:33:00.020760Z",
          "iopub.status.idle": "2022-12-02T12:33:07.382240Z",
          "shell.execute_reply": "2022-12-02T12:33:07.380744Z"
        },
        "papermill": {
          "duration": 7.378107,
          "end_time": "2022-12-02T12:33:07.385359",
          "exception": false,
          "start_time": "2022-12-02T12:33:00.007252",
          "status": "completed"
        },
        "tags": [],
        "id": "4fcabb73",
        "outputId": "eca4f731-a25f-43f7-eb15-32d3ad43c587"
      },
      "outputs": [
        {
          "data": {
            "text/html": [
              "<style>#sk-container-id-2 {color: black;background-color: white;}#sk-container-id-2 pre{padding: 0;}#sk-container-id-2 div.sk-toggleable {background-color: white;}#sk-container-id-2 label.sk-toggleable__label {cursor: pointer;display: block;width: 100%;margin-bottom: 0;padding: 0.3em;box-sizing: border-box;text-align: center;}#sk-container-id-2 label.sk-toggleable__label-arrow:before {content: \"▸\";float: left;margin-right: 0.25em;color: #696969;}#sk-container-id-2 label.sk-toggleable__label-arrow:hover:before {color: black;}#sk-container-id-2 div.sk-estimator:hover label.sk-toggleable__label-arrow:before {color: black;}#sk-container-id-2 div.sk-toggleable__content {max-height: 0;max-width: 0;overflow: hidden;text-align: left;background-color: #f0f8ff;}#sk-container-id-2 div.sk-toggleable__content pre {margin: 0.2em;color: black;border-radius: 0.25em;background-color: #f0f8ff;}#sk-container-id-2 input.sk-toggleable__control:checked~div.sk-toggleable__content {max-height: 200px;max-width: 100%;overflow: auto;}#sk-container-id-2 input.sk-toggleable__control:checked~label.sk-toggleable__label-arrow:before {content: \"▾\";}#sk-container-id-2 div.sk-estimator input.sk-toggleable__control:checked~label.sk-toggleable__label {background-color: #d4ebff;}#sk-container-id-2 div.sk-label input.sk-toggleable__control:checked~label.sk-toggleable__label {background-color: #d4ebff;}#sk-container-id-2 input.sk-hidden--visually {border: 0;clip: rect(1px 1px 1px 1px);clip: rect(1px, 1px, 1px, 1px);height: 1px;margin: -1px;overflow: hidden;padding: 0;position: absolute;width: 1px;}#sk-container-id-2 div.sk-estimator {font-family: monospace;background-color: #f0f8ff;border: 1px dotted black;border-radius: 0.25em;box-sizing: border-box;margin-bottom: 0.5em;}#sk-container-id-2 div.sk-estimator:hover {background-color: #d4ebff;}#sk-container-id-2 div.sk-parallel-item::after {content: \"\";width: 100%;border-bottom: 1px solid gray;flex-grow: 1;}#sk-container-id-2 div.sk-label:hover label.sk-toggleable__label {background-color: #d4ebff;}#sk-container-id-2 div.sk-serial::before {content: \"\";position: absolute;border-left: 1px solid gray;box-sizing: border-box;top: 0;bottom: 0;left: 50%;z-index: 0;}#sk-container-id-2 div.sk-serial {display: flex;flex-direction: column;align-items: center;background-color: white;padding-right: 0.2em;padding-left: 0.2em;position: relative;}#sk-container-id-2 div.sk-item {position: relative;z-index: 1;}#sk-container-id-2 div.sk-parallel {display: flex;align-items: stretch;justify-content: center;background-color: white;position: relative;}#sk-container-id-2 div.sk-item::before, #sk-container-id-2 div.sk-parallel-item::before {content: \"\";position: absolute;border-left: 1px solid gray;box-sizing: border-box;top: 0;bottom: 0;left: 50%;z-index: -1;}#sk-container-id-2 div.sk-parallel-item {display: flex;flex-direction: column;z-index: 1;position: relative;background-color: white;}#sk-container-id-2 div.sk-parallel-item:first-child::after {align-self: flex-end;width: 50%;}#sk-container-id-2 div.sk-parallel-item:last-child::after {align-self: flex-start;width: 50%;}#sk-container-id-2 div.sk-parallel-item:only-child::after {width: 0;}#sk-container-id-2 div.sk-dashed-wrapped {border: 1px dashed gray;margin: 0 0.4em 0.5em 0.4em;box-sizing: border-box;padding-bottom: 0.4em;background-color: white;}#sk-container-id-2 div.sk-label label {font-family: monospace;font-weight: bold;display: inline-block;line-height: 1.2em;}#sk-container-id-2 div.sk-label-container {text-align: center;}#sk-container-id-2 div.sk-container {/* jupyter's `normalize.less` sets `[hidden] { display: none; }` but bootstrap.min.css set `[hidden] { display: none !important; }` so we also need the `!important` here to be able to override the default hidden behavior on the sphinx rendered scikit-learn.org. See: https://github.com/scikit-learn/scikit-learn/issues/21755 */display: inline-block !important;position: relative;}#sk-container-id-2 div.sk-text-repr-fallback {display: none;}</style><div id=\"sk-container-id-2\" class=\"sk-top-container\"><div class=\"sk-text-repr-fallback\"><pre>RandomForestClassifier(n_estimators=50, random_state=3)</pre><b>In a Jupyter environment, please rerun this cell to show the HTML representation or trust the notebook. <br />On GitHub, the HTML representation is unable to render, please try loading this page with nbviewer.org.</b></div><div class=\"sk-container\" hidden><div class=\"sk-item\"><div class=\"sk-estimator sk-toggleable\"><input class=\"sk-toggleable__control sk-hidden--visually\" id=\"sk-estimator-id-2\" type=\"checkbox\" checked><label for=\"sk-estimator-id-2\" class=\"sk-toggleable__label sk-toggleable__label-arrow\">RandomForestClassifier</label><div class=\"sk-toggleable__content\"><pre>RandomForestClassifier(n_estimators=50, random_state=3)</pre></div></div></div></div></div>"
            ],
            "text/plain": [
              "RandomForestClassifier(n_estimators=50, random_state=3)"
            ]
          },
          "execution_count": 24,
          "metadata": {},
          "output_type": "execute_result"
        }
      ],
      "source": [
        "from sklearn.ensemble import RandomForestClassifier\n",
        "rf = RandomForestClassifier(n_estimators=50, random_state=3)\n",
        "rf.fit(X_train,y_train)"
      ]
    },
    {
      "cell_type": "code",
      "execution_count": null,
      "id": "6e8b8103",
      "metadata": {
        "execution": {
          "iopub.execute_input": "2022-12-02T12:33:07.408759Z",
          "iopub.status.busy": "2022-12-02T12:33:07.407437Z",
          "iopub.status.idle": "2022-12-02T12:33:07.434783Z",
          "shell.execute_reply": "2022-12-02T12:33:07.433378Z"
        },
        "papermill": {
          "duration": 0.042321,
          "end_time": "2022-12-02T12:33:07.438078",
          "exception": false,
          "start_time": "2022-12-02T12:33:07.395757",
          "status": "completed"
        },
        "tags": [],
        "id": "6e8b8103",
        "outputId": "add37cf1-6e7d-42fa-aa12-06cefa8b24cd"
      },
      "outputs": [
        {
          "data": {
            "text/html": [
              "<div>\n",
              "<style scoped>\n",
              "    .dataframe tbody tr th:only-of-type {\n",
              "        vertical-align: middle;\n",
              "    }\n",
              "\n",
              "    .dataframe tbody tr th {\n",
              "        vertical-align: top;\n",
              "    }\n",
              "\n",
              "    .dataframe thead th {\n",
              "        text-align: right;\n",
              "    }\n",
              "</style>\n",
              "<table border=\"1\" class=\"dataframe\">\n",
              "  <thead>\n",
              "    <tr style=\"text-align: right;\">\n",
              "      <th></th>\n",
              "      <th>Importance</th>\n",
              "    </tr>\n",
              "    <tr>\n",
              "      <th>Feature</th>\n",
              "      <th></th>\n",
              "    </tr>\n",
              "  </thead>\n",
              "  <tbody>\n",
              "    <tr>\n",
              "      <th>_cexit</th>\n",
              "      <td>3.259</td>\n",
              "    </tr>\n",
              "    <tr>\n",
              "      <th>__p__fmode</th>\n",
              "      <td>3.018</td>\n",
              "    </tr>\n",
              "    <tr>\n",
              "      <th>_exit</th>\n",
              "      <td>2.491</td>\n",
              "    </tr>\n",
              "    <tr>\n",
              "      <th>exit</th>\n",
              "      <td>2.292</td>\n",
              "    </tr>\n",
              "    <tr>\n",
              "      <th>__set_app_type</th>\n",
              "      <td>1.823</td>\n",
              "    </tr>\n",
              "    <tr>\n",
              "      <th>...</th>\n",
              "      <td>...</td>\n",
              "    </tr>\n",
              "    <tr>\n",
              "      <th>lstrcmpA</th>\n",
              "      <td>0.202</td>\n",
              "    </tr>\n",
              "    <tr>\n",
              "      <th>GetExitCodeProcess</th>\n",
              "      <td>0.202</td>\n",
              "    </tr>\n",
              "    <tr>\n",
              "      <th>MapViewOfFile</th>\n",
              "      <td>0.201</td>\n",
              "    </tr>\n",
              "    <tr>\n",
              "      <th>DragFinish</th>\n",
              "      <td>0.201</td>\n",
              "    </tr>\n",
              "    <tr>\n",
              "      <th>WideCharToMultiByte</th>\n",
              "      <td>0.201</td>\n",
              "    </tr>\n",
              "  </tbody>\n",
              "</table>\n",
              "<p>93 rows × 1 columns</p>\n",
              "</div>"
            ],
            "text/plain": [
              "                     Importance\n",
              "Feature                        \n",
              "_cexit                    3.259\n",
              "__p__fmode                3.018\n",
              "_exit                     2.491\n",
              "exit                      2.292\n",
              "__set_app_type            1.823\n",
              "...                         ...\n",
              "lstrcmpA                  0.202\n",
              "GetExitCodeProcess        0.202\n",
              "MapViewOfFile             0.201\n",
              "DragFinish                0.201\n",
              "WideCharToMultiByte       0.201\n",
              "\n",
              "[93 rows x 1 columns]"
            ]
          },
          "execution_count": 25,
          "metadata": {},
          "output_type": "execute_result"
        }
      ],
      "source": [
        "#Find Important features\n",
        "importances= pd.DataFrame({'Feature': X_train.columns, 'Importance': np.round((rf.feature_importances_ * 100),3)})\n",
        "importances= importances.sort_values('Importance', ascending=False).set_index('Feature')\n",
        "\n",
        "importances.loc[importances['Importance']> 0.2]"
      ]
    },
    {
      "cell_type": "code",
      "execution_count": null,
      "id": "2be31faf",
      "metadata": {
        "execution": {
          "iopub.execute_input": "2022-12-02T12:33:07.461502Z",
          "iopub.status.busy": "2022-12-02T12:33:07.461011Z",
          "iopub.status.idle": "2022-12-02T12:33:07.473322Z",
          "shell.execute_reply": "2022-12-02T12:33:07.471699Z"
        },
        "papermill": {
          "duration": 0.027781,
          "end_time": "2022-12-02T12:33:07.476327",
          "exception": false,
          "start_time": "2022-12-02T12:33:07.448546",
          "status": "completed"
        },
        "tags": [],
        "id": "2be31faf",
        "outputId": "21c52132-8e98-4135-f9ef-c69d39271715"
      },
      "outputs": [
        {
          "data": {
            "text/plain": [
              "['_cexit',\n",
              " '__p__fmode',\n",
              " '_exit',\n",
              " 'exit',\n",
              " '__set_app_type',\n",
              " '_initterm',\n",
              " 'SetUnhandledExceptionFilter',\n",
              " 'QueryPerformanceCounter',\n",
              " 'InterlockedCompareExchange',\n",
              " '_controlfp',\n",
              " '__p__commode',\n",
              " 'InterlockedExchange',\n",
              " 'VirtualAlloc',\n",
              " '_onexit',\n",
              " 'free',\n",
              " 'malloc',\n",
              " '__setusermatherr',\n",
              " 'memset',\n",
              " 'memcpy',\n",
              " '__getmainargs',\n",
              " '_XcptFilter',\n",
              " 'VirtualFree',\n",
              " 'VirtualProtect',\n",
              " 'GetModuleHandleA',\n",
              " 'UnhandledExceptionFilter',\n",
              " 'Sleep',\n",
              " 'GetCurrentProcessId',\n",
              " 'SetFilePointer',\n",
              " 'IsDlgButtonChecked',\n",
              " 'WriteFile',\n",
              " 'TerminateProcess',\n",
              " 'RegCloseKey',\n",
              " 'GetDC',\n",
              " 'GetSystemTimeAsFileTime',\n",
              " 'ExitProcess',\n",
              " 'GetTickCount',\n",
              " 'LoadLibraryW',\n",
              " 'GetCurrentThreadId',\n",
              " 'MessageBoxIndirectW',\n",
              " 'gethostbyname',\n",
              " 'TlsGetValue',\n",
              " 'HeapSetInformation',\n",
              " 'WSAStartup',\n",
              " 'LoadLibraryA',\n",
              " 'wvsprintfW',\n",
              " 'MessageBoxA',\n",
              " 'GetStartupInfoA',\n",
              " 'GetPrivateProfileStringW',\n",
              " 'IsDebuggerPresent',\n",
              " 'GetTextExtentPoint32W',\n",
              " 'GetACP',\n",
              " 'CopyFileW',\n",
              " 'SHGetMalloc',\n",
              " 'VariantInit',\n",
              " 'WaitForSingleObject',\n",
              " 'HeapAlloc',\n",
              " 'LoadStringW',\n",
              " 'MessageBoxW',\n",
              " 'wsprintfA',\n",
              " 'WritePrivateProfileStringW',\n",
              " 'RtlUnwind',\n",
              " 'SHGetFileInfoW',\n",
              " 'TlsSetValue',\n",
              " 'GetConsoleOutputCP',\n",
              " 'RemoveDirectoryW',\n",
              " 'MultiByteToWideChar',\n",
              " 'CharPrevW',\n",
              " 'VerQueryValueW',\n",
              " 'GetAsyncKeyState',\n",
              " 'CompareStringW',\n",
              " 'GetProcessHeap',\n",
              " 'CallWindowProcW',\n",
              " 'VirtualQuery',\n",
              " 'CoInitialize',\n",
              " 'RegOpenKeyExW',\n",
              " 'GetModuleFileNameW',\n",
              " 'FreeLibrary',\n",
              " 'GetStdHandle',\n",
              " 'ReadFile',\n",
              " 'SetTimer',\n",
              " 'SearchPathW',\n",
              " 'SysAllocString',\n",
              " 'GetProcAddress',\n",
              " 'ShellExecuteA',\n",
              " 'GetCPInfo',\n",
              " 'TlsFree',\n",
              " 'VerQueryValueA',\n",
              " 'ExpandEnvironmentStringsW',\n",
              " 'lstrcmpA',\n",
              " 'GetExitCodeProcess',\n",
              " 'MapViewOfFile',\n",
              " 'DragFinish',\n",
              " 'WideCharToMultiByte',\n",
              " 'malware']"
            ]
          },
          "execution_count": 26,
          "metadata": {},
          "output_type": "execute_result"
        }
      ],
      "source": [
        "features= importances.loc[importances['Importance']> 0.2].index.to_list()\n",
        "mal= ['malware']\n",
        "columns= features + mal\n",
        "\n",
        "columns"
      ]
    },
    {
      "cell_type": "code",
      "execution_count": null,
      "id": "2747426a",
      "metadata": {
        "execution": {
          "iopub.execute_input": "2022-12-02T12:33:07.500744Z",
          "iopub.status.busy": "2022-12-02T12:33:07.500263Z",
          "iopub.status.idle": "2022-12-02T12:33:07.514641Z",
          "shell.execute_reply": "2022-12-02T12:33:07.513278Z"
        },
        "papermill": {
          "duration": 0.030075,
          "end_time": "2022-12-02T12:33:07.517577",
          "exception": false,
          "start_time": "2022-12-02T12:33:07.487502",
          "status": "completed"
        },
        "tags": [],
        "id": "2747426a"
      },
      "outputs": [],
      "source": [
        "#Keep only important features\n",
        "\n",
        "df=data[columns]"
      ]
    },
    {
      "cell_type": "code",
      "execution_count": null,
      "id": "36f55823",
      "metadata": {
        "execution": {
          "iopub.execute_input": "2022-12-02T12:33:07.541474Z",
          "iopub.status.busy": "2022-12-02T12:33:07.540964Z",
          "iopub.status.idle": "2022-12-02T12:33:07.599675Z",
          "shell.execute_reply": "2022-12-02T12:33:07.598412Z"
        },
        "papermill": {
          "duration": 0.075903,
          "end_time": "2022-12-02T12:33:07.604202",
          "exception": false,
          "start_time": "2022-12-02T12:33:07.528299",
          "status": "completed"
        },
        "tags": [],
        "id": "36f55823",
        "outputId": "312fdae3-c0e9-40b7-8362-2e4967f9e354"
      },
      "outputs": [
        {
          "name": "stdout",
          "output_type": "stream",
          "text": [
            "X Shape:  (47580, 93)\n",
            "Y Shape:  (47580,)\n"
          ]
        }
      ],
      "source": [
        "y= df['malware']\n",
        "X= df.drop(['malware'], axis=1)\n",
        "print(\"X Shape: \", X.shape)\n",
        "print(\"Y Shape: \", y.shape)\n",
        "X_train, X_test, y_train, y_test= train_test_split(X, y, test_size=0.2, random_state=2)"
      ]
    },
    {
      "cell_type": "code",
      "execution_count": null,
      "id": "ae241af2",
      "metadata": {
        "execution": {
          "iopub.execute_input": "2022-12-02T12:33:07.628078Z",
          "iopub.status.busy": "2022-12-02T12:33:07.627563Z",
          "iopub.status.idle": "2022-12-02T12:33:09.996489Z",
          "shell.execute_reply": "2022-12-02T12:33:09.995049Z"
        },
        "papermill": {
          "duration": 2.384339,
          "end_time": "2022-12-02T12:33:09.999645",
          "exception": false,
          "start_time": "2022-12-02T12:33:07.615306",
          "status": "completed"
        },
        "tags": [],
        "id": "ae241af2",
        "outputId": "430fc1a4-b7d6-4ebd-e666-22f7f922ec15"
      },
      "outputs": [
        {
          "data": {
            "text/html": [
              "<style>#sk-container-id-3 {color: black;background-color: white;}#sk-container-id-3 pre{padding: 0;}#sk-container-id-3 div.sk-toggleable {background-color: white;}#sk-container-id-3 label.sk-toggleable__label {cursor: pointer;display: block;width: 100%;margin-bottom: 0;padding: 0.3em;box-sizing: border-box;text-align: center;}#sk-container-id-3 label.sk-toggleable__label-arrow:before {content: \"▸\";float: left;margin-right: 0.25em;color: #696969;}#sk-container-id-3 label.sk-toggleable__label-arrow:hover:before {color: black;}#sk-container-id-3 div.sk-estimator:hover label.sk-toggleable__label-arrow:before {color: black;}#sk-container-id-3 div.sk-toggleable__content {max-height: 0;max-width: 0;overflow: hidden;text-align: left;background-color: #f0f8ff;}#sk-container-id-3 div.sk-toggleable__content pre {margin: 0.2em;color: black;border-radius: 0.25em;background-color: #f0f8ff;}#sk-container-id-3 input.sk-toggleable__control:checked~div.sk-toggleable__content {max-height: 200px;max-width: 100%;overflow: auto;}#sk-container-id-3 input.sk-toggleable__control:checked~label.sk-toggleable__label-arrow:before {content: \"▾\";}#sk-container-id-3 div.sk-estimator input.sk-toggleable__control:checked~label.sk-toggleable__label {background-color: #d4ebff;}#sk-container-id-3 div.sk-label input.sk-toggleable__control:checked~label.sk-toggleable__label {background-color: #d4ebff;}#sk-container-id-3 input.sk-hidden--visually {border: 0;clip: rect(1px 1px 1px 1px);clip: rect(1px, 1px, 1px, 1px);height: 1px;margin: -1px;overflow: hidden;padding: 0;position: absolute;width: 1px;}#sk-container-id-3 div.sk-estimator {font-family: monospace;background-color: #f0f8ff;border: 1px dotted black;border-radius: 0.25em;box-sizing: border-box;margin-bottom: 0.5em;}#sk-container-id-3 div.sk-estimator:hover {background-color: #d4ebff;}#sk-container-id-3 div.sk-parallel-item::after {content: \"\";width: 100%;border-bottom: 1px solid gray;flex-grow: 1;}#sk-container-id-3 div.sk-label:hover label.sk-toggleable__label {background-color: #d4ebff;}#sk-container-id-3 div.sk-serial::before {content: \"\";position: absolute;border-left: 1px solid gray;box-sizing: border-box;top: 0;bottom: 0;left: 50%;z-index: 0;}#sk-container-id-3 div.sk-serial {display: flex;flex-direction: column;align-items: center;background-color: white;padding-right: 0.2em;padding-left: 0.2em;position: relative;}#sk-container-id-3 div.sk-item {position: relative;z-index: 1;}#sk-container-id-3 div.sk-parallel {display: flex;align-items: stretch;justify-content: center;background-color: white;position: relative;}#sk-container-id-3 div.sk-item::before, #sk-container-id-3 div.sk-parallel-item::before {content: \"\";position: absolute;border-left: 1px solid gray;box-sizing: border-box;top: 0;bottom: 0;left: 50%;z-index: -1;}#sk-container-id-3 div.sk-parallel-item {display: flex;flex-direction: column;z-index: 1;position: relative;background-color: white;}#sk-container-id-3 div.sk-parallel-item:first-child::after {align-self: flex-end;width: 50%;}#sk-container-id-3 div.sk-parallel-item:last-child::after {align-self: flex-start;width: 50%;}#sk-container-id-3 div.sk-parallel-item:only-child::after {width: 0;}#sk-container-id-3 div.sk-dashed-wrapped {border: 1px dashed gray;margin: 0 0.4em 0.5em 0.4em;box-sizing: border-box;padding-bottom: 0.4em;background-color: white;}#sk-container-id-3 div.sk-label label {font-family: monospace;font-weight: bold;display: inline-block;line-height: 1.2em;}#sk-container-id-3 div.sk-label-container {text-align: center;}#sk-container-id-3 div.sk-container {/* jupyter's `normalize.less` sets `[hidden] { display: none; }` but bootstrap.min.css set `[hidden] { display: none !important; }` so we also need the `!important` here to be able to override the default hidden behavior on the sphinx rendered scikit-learn.org. See: https://github.com/scikit-learn/scikit-learn/issues/21755 */display: inline-block !important;position: relative;}#sk-container-id-3 div.sk-text-repr-fallback {display: none;}</style><div id=\"sk-container-id-3\" class=\"sk-top-container\"><div class=\"sk-text-repr-fallback\"><pre>RandomForestClassifier(max_depth=110, max_features=3, min_samples_leaf=2,\n",
              "                       min_samples_split=3, random_state=3)</pre><b>In a Jupyter environment, please rerun this cell to show the HTML representation or trust the notebook. <br />On GitHub, the HTML representation is unable to render, please try loading this page with nbviewer.org.</b></div><div class=\"sk-container\" hidden><div class=\"sk-item\"><div class=\"sk-estimator sk-toggleable\"><input class=\"sk-toggleable__control sk-hidden--visually\" id=\"sk-estimator-id-3\" type=\"checkbox\" checked><label for=\"sk-estimator-id-3\" class=\"sk-toggleable__label sk-toggleable__label-arrow\">RandomForestClassifier</label><div class=\"sk-toggleable__content\"><pre>RandomForestClassifier(max_depth=110, max_features=3, min_samples_leaf=2,\n",
              "                       min_samples_split=3, random_state=3)</pre></div></div></div></div></div>"
            ],
            "text/plain": [
              "RandomForestClassifier(max_depth=110, max_features=3, min_samples_leaf=2,\n",
              "                       min_samples_split=3, random_state=3)"
            ]
          },
          "execution_count": 29,
          "metadata": {},
          "output_type": "execute_result"
        }
      ],
      "source": [
        "rf = RandomForestClassifier(n_estimators=100, \n",
        "                            random_state=3, \n",
        "                            bootstrap= True,\n",
        "                            max_depth= 110,\n",
        "                            max_features= 3,\n",
        "                            min_samples_leaf= 2,\n",
        "                            min_samples_split= 3)\n",
        "rf.fit(X_train,y_train)"
      ]
    },
    {
      "cell_type": "code",
      "execution_count": null,
      "id": "e84d25ab",
      "metadata": {
        "execution": {
          "iopub.execute_input": "2022-12-02T12:33:10.024028Z",
          "iopub.status.busy": "2022-12-02T12:33:10.023565Z",
          "iopub.status.idle": "2022-12-02T12:33:10.969930Z",
          "shell.execute_reply": "2022-12-02T12:33:10.968203Z"
        },
        "papermill": {
          "duration": 0.961723,
          "end_time": "2022-12-02T12:33:10.972979",
          "exception": false,
          "start_time": "2022-12-02T12:33:10.011256",
          "status": "completed"
        },
        "tags": [],
        "id": "e84d25ab",
        "outputId": "4c4eee01-e6a3-4ed3-bf2b-de1bb48295e1"
      },
      "outputs": [
        {
          "name": "stdout",
          "output_type": "stream",
          "text": [
            "Train Accuracy: 0.9786149642707019\n",
            "Test Accuracy: 0.9781420765027322\n"
          ]
        }
      ],
      "source": [
        "y_pred= rf.predict(X_test)\n",
        "\n",
        "print(\"Train Accuracy:\",rf.score(X_train, y_train) )#accuracy\n",
        "print( \"Test Accuracy:\", accuracy_score(y_test, y_pred, normalize=True))"
      ]
    }
  ],
  "metadata": {
    "kernelspec": {
      "display_name": "Python 3 (ipykernel)",
      "language": "python",
      "name": "python3"
    },
    "language_info": {
      "codemirror_mode": {
        "name": "ipython",
        "version": 3
      },
      "file_extension": ".py",
      "mimetype": "text/x-python",
      "name": "python",
      "nbconvert_exporter": "python",
      "pygments_lexer": "ipython3",
      "version": "3.9.7"
    },
    "papermill": {
      "default_parameters": {},
      "duration": 173.600705,
      "end_time": "2022-12-02T12:33:12.011299",
      "environment_variables": {},
      "exception": null,
      "input_path": "__notebook__.ipynb",
      "output_path": "__notebook__.ipynb",
      "parameters": {},
      "start_time": "2022-12-02T12:30:18.410594",
      "version": "2.3.4"
    },
    "colab": {
      "provenance": []
    }
  },
  "nbformat": 4,
  "nbformat_minor": 5
}